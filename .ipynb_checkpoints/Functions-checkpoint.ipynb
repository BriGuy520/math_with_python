{
 "cells": [
  {
   "cell_type": "code",
   "execution_count": null,
   "id": "941ddb4f",
   "metadata": {},
   "outputs": [],
   "source": [
    "from IPython.display import display, Math\n",
    "\n",
    "# def compute_remainder(x, y):\n",
    "\n",
    "#     divis = int(x/y)\n",
    "#     remainder = x % y\n",
    "\n",
    "#     print(\"{} goes into {} {} times with a remainder of {}\".format(y, x, divis, remainder))\n",
    "\n",
    "\n",
    "# numerator = int(input(\"Please put in a number: \"))\n",
    "# denomenantor = int(input(\"Please select another number: \"))\n",
    "\n",
    "# compute_remainder(numerator, denomenantor)\n",
    "\n",
    "\n",
    "def exponent(x, y):\n",
    "\n",
    "    display(Math(\"%g^%g = %g\" % (x,y, x**y)))\n",
    "\n",
    "\n",
    "def divide(x, y):\n",
    "\n",
    "    display(Math(\"\\\\frac{%g}{%g} = %g\" % (x / y)))\n",
    "\n",
    "    \n",
    "print(\"Hello\")\n",
    "\n",
    "first = int( input(\"Choose a number: \"))\n",
    "second = int ( input(\"Choose another number: \"))\n",
    "\n",
    "\n",
    "select_operation = int(input(display(Math(\"Press \\\"1\\\" to compute %g^%g or \\\"2\\\" to compute \\\\frac{%g}{%g}\" % (first, second, first, second)))))\n",
    "\n",
    "if(select_operation == 1):\n",
    "    exponent(first, second)\n",
    "elif(select_operation == 2):\n",
    "    divide(first, second)\n",
    "else:\n",
    "    print(\"Invalid selection\")\n"
   ]
  },
  {
   "cell_type": "code",
   "execution_count": null,
   "id": "b86e212d",
   "metadata": {},
   "outputs": [],
   "source": []
  },
  {
   "cell_type": "code",
   "execution_count": null,
   "id": "ee933db9",
   "metadata": {},
   "outputs": [],
   "source": []
  },
  {
   "cell_type": "code",
   "execution_count": null,
   "id": "d01035ab",
   "metadata": {},
   "outputs": [],
   "source": []
  }
 ],
 "metadata": {
  "kernelspec": {
   "display_name": "Python 3 (ipykernel)",
   "language": "python",
   "name": "python3"
  },
  "language_info": {
   "codemirror_mode": {
    "name": "ipython",
    "version": 3
   },
   "file_extension": ".py",
   "mimetype": "text/x-python",
   "name": "python",
   "nbconvert_exporter": "python",
   "pygments_lexer": "ipython3",
   "version": "3.10.2"
  },
  "vscode": {
   "interpreter": {
    "hash": "369f2c481f4da34e4445cda3fffd2e751bd1c4d706f27375911949ba6bb62e1c"
   }
  }
 },
 "nbformat": 4,
 "nbformat_minor": 5
}
